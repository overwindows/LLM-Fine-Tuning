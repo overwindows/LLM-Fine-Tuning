{
 "cells": [
  {
   "cell_type": "code",
   "execution_count": null,
   "metadata": {},
   "outputs": [],
   "source": [
    "from tree_sitter import Language, Parser\n",
    "\n",
    "Language.build_library(\n",
    "  # Store the library in the `build` directory\n",
    "  'build/my-languages.so',\n",
    "\n",
    "  # Include one or more languages\n",
    "  [\n",
    "    '/home/overwindows/tree-sitter-c-sharp'\n",
    "  ]\n",
    ")"
   ]
  },
  {
   "cell_type": "code",
   "execution_count": 2,
   "metadata": {},
   "outputs": [],
   "source": [
    "import os \n",
    "import code_tokenizer\n",
    "\n",
    "java_tokenizer = getattr(code_tokenizer, f\"tokenize_java\", None)\n",
    "csharp_tokenizer = getattr(code_tokenizer, f\"tokenize_csharp\", None)"
   ]
  },
  {
   "cell_type": "code",
   "execution_count": 4,
   "metadata": {},
   "outputs": [
    {
     "name": "stdout",
     "output_type": "stream",
     "text": [
      "['static', 'void', 'Main', '(', 'string', '[', ']', 'args', ')', '{', 'int', 'number1', '=', '5', ';', 'int', 'number2', '=', '10', ';', 'int', 'sum', '=', 'AddNumbers', '(', 'number1', ',', 'number2', ')', ';', 'Console', '.', 'WriteLine', '(', '\"', 'The sum of ', '\"', '+', 'number1', '+', '\"', ' and ', '\"', '+', 'number2', '+', '\"', ' is: ', '\"', '+', 'sum', ')', ';', '}']\n",
      "['public', 'static', 'void', 'main', '(', 'String', '[', ']', 'args', ')', '{', 'int', 'number1', '=', '5', ';', 'int', 'number2', '=', '10', ';', 'int', 'sum', '=', 'addNumbers', '(', 'number1', ',', 'number2', ')', ';', 'System', '.', 'out', '.', 'println', '(', '\"The ▁ sum ▁ of ▁ \"', '+', 'number1', '+', '\" ▁ and ▁ \"', '+', 'number2', '+', '\" ▁ is: ▁ \"', '+', 'sum', ')', ';', '}']\n"
     ]
    }
   ],
   "source": [
    "sample_java = \"\"\"\n",
    "public static void main(String[] args) {  \n",
    "        int number1 = 5;  \n",
    "        int number2= 10;  \n",
    "        int sum = addNumbers(number1, number2);  \n",
    "        System.out.println(\"The sum of \" + number1 + \" and \" + number2 + \" is: \" + sum);  \n",
    "    }  \n",
    "\"\"\"\n",
    "sample_cshape = \"\"\"\n",
    "static void Main(string[] args)  \n",
    "        {  \n",
    "            int number1=5;  \n",
    "            int number2=10;  \n",
    "            int sum = AddNumbers(number1, number2);  \n",
    "            Console.WriteLine(\"The sum of \" + number1 + \" and \" + number2 + \" is: \" + sum);  \n",
    "        }\n",
    "\"\"\"\n",
    "\n"
   ]
  },
  {
   "cell_type": "code",
   "execution_count": null,
   "metadata": {},
   "outputs": [],
   "source": [
    "print(csharp_tokenizer(sample_cshape))\n",
    "print(java_tokenizer(sample_java))"
   ]
  }
 ],
 "metadata": {
  "kernelspec": {
   "display_name": "Python 3",
   "language": "python",
   "name": "python3"
  },
  "language_info": {
   "codemirror_mode": {
    "name": "ipython",
    "version": 3
   },
   "file_extension": ".py",
   "mimetype": "text/x-python",
   "name": "python",
   "nbconvert_exporter": "python",
   "pygments_lexer": "ipython3",
   "version": "3.10.6"
  },
  "orig_nbformat": 4
 },
 "nbformat": 4,
 "nbformat_minor": 2
}
